{
 "cells": [
  {
   "cell_type": "markdown",
   "metadata": {},
   "source": [
    "# Naive Bayes"
   ]
  },
  {
   "cell_type": "markdown",
   "metadata": {},
   "source": [
    "#### Importando bibliotecas"
   ]
  },
  {
   "cell_type": "code",
   "execution_count": 1,
   "metadata": {},
   "outputs": [],
   "source": [
    "%matplotlib inline\n",
    "\n",
    "import numpy as np\n",
    "import pandas as pd\n",
    "import matplotlib.pyplot as plt\n",
    "from sklearn.metrics import roc_curve, auc\n",
    "from sklearn.metrics import confusion_matrix\n",
    "from sklearn.metrics import classification_report\n",
    "from sklearn.model_selection import KFold, cross_val_score\n",
    "from sklearn.model_selection import train_test_split, GridSearchCV\n",
    "from sklearn.naive_bayes import GaussianNB\n",
    "from sklearn.naive_bayes import MultinomialNB\n",
    "from sklearn.metrics  import   accuracy_score \n",
    "from sklearn.model_selection import LeaveOneOut\n",
    "from sklearn.model_selection import KFold\n",
    "from sklearn import metrics\n",
    "\n",
    "plt.style.use('ggplot')\n",
    "pd.set_option('display.max_columns', 500) "
   ]
  },
  {
   "cell_type": "code",
   "execution_count": 2,
   "metadata": {},
   "outputs": [],
   "source": [
    "def report_teste(predictions, alg_name):\n",
    "\n",
    "    print('Resultados para o classificador {0}:'.format(alg_name))\n",
    "    print(classification_report(y_teste, predictions), \n",
    "    print (\"Acurácia para o treino é \", accuracy_score(y_teste,predictions)))\n",
    "    \n",
    "def report_treino(predictions, alg_name):\n",
    "\n",
    "    print('Resultados para o classificador {0}:'.format(alg_name))\n",
    "    print(classification_report(y_treino, predictions), \n",
    "    print (\"Acurácia para o treino é \", accuracy_score(y_treino,predictions)))"
   ]
  },
  {
   "cell_type": "markdown",
   "metadata": {},
   "source": [
    "#### Dados"
   ]
  },
  {
   "cell_type": "code",
   "execution_count": 3,
   "metadata": {},
   "outputs": [],
   "source": [
    "dataset = pd.read_csv('C:\\\\Users\\\\Fabiel Fernando\\\\Desktop\\\\DADOSPROVA\\\\classificacao_2.csv')"
   ]
  },
  {
   "cell_type": "code",
   "execution_count": 4,
   "metadata": {},
   "outputs": [
    {
     "data": {
      "text/html": [
       "<div>\n",
       "<style scoped>\n",
       "    .dataframe tbody tr th:only-of-type {\n",
       "        vertical-align: middle;\n",
       "    }\n",
       "\n",
       "    .dataframe tbody tr th {\n",
       "        vertical-align: top;\n",
       "    }\n",
       "\n",
       "    .dataframe thead th {\n",
       "        text-align: right;\n",
       "    }\n",
       "</style>\n",
       "<table border=\"1\" class=\"dataframe\">\n",
       "  <thead>\n",
       "    <tr style=\"text-align: right;\">\n",
       "      <th></th>\n",
       "      <th>v_1</th>\n",
       "      <th>v_2</th>\n",
       "      <th>v_3</th>\n",
       "      <th>v_4</th>\n",
       "      <th>v_5</th>\n",
       "      <th>v_6</th>\n",
       "      <th>v_7</th>\n",
       "      <th>v_8</th>\n",
       "      <th>v_9</th>\n",
       "      <th>v_10</th>\n",
       "      <th>v_11</th>\n",
       "      <th>v_12</th>\n",
       "      <th>target</th>\n",
       "    </tr>\n",
       "  </thead>\n",
       "  <tbody>\n",
       "    <tr>\n",
       "      <th>0</th>\n",
       "      <td>-0.79138</td>\n",
       "      <td>-1.45877</td>\n",
       "      <td>-0.61498</td>\n",
       "      <td>6.39546</td>\n",
       "      <td>-0.19283</td>\n",
       "      <td>-4.92609</td>\n",
       "      <td>3.72728</td>\n",
       "      <td>2.36581</td>\n",
       "      <td>0.60241</td>\n",
       "      <td>2.85597</td>\n",
       "      <td>2.52876</td>\n",
       "      <td>2.09155</td>\n",
       "      <td>0</td>\n",
       "    </tr>\n",
       "    <tr>\n",
       "      <th>1</th>\n",
       "      <td>0.79527</td>\n",
       "      <td>-0.14828</td>\n",
       "      <td>0.49140</td>\n",
       "      <td>0.10649</td>\n",
       "      <td>4.32203</td>\n",
       "      <td>-1.55355</td>\n",
       "      <td>-0.62966</td>\n",
       "      <td>-0.27509</td>\n",
       "      <td>4.06300</td>\n",
       "      <td>-1.11079</td>\n",
       "      <td>3.61077</td>\n",
       "      <td>1.11076</td>\n",
       "      <td>0</td>\n",
       "    </tr>\n",
       "    <tr>\n",
       "      <th>2</th>\n",
       "      <td>-2.30926</td>\n",
       "      <td>1.59887</td>\n",
       "      <td>1.23513</td>\n",
       "      <td>-4.49395</td>\n",
       "      <td>0.50298</td>\n",
       "      <td>4.10219</td>\n",
       "      <td>0.48356</td>\n",
       "      <td>-0.51920</td>\n",
       "      <td>-1.59507</td>\n",
       "      <td>1.75719</td>\n",
       "      <td>-1.71703</td>\n",
       "      <td>0.92375</td>\n",
       "      <td>1</td>\n",
       "    </tr>\n",
       "    <tr>\n",
       "      <th>3</th>\n",
       "      <td>1.97998</td>\n",
       "      <td>-2.71683</td>\n",
       "      <td>-0.73252</td>\n",
       "      <td>3.08358</td>\n",
       "      <td>3.52049</td>\n",
       "      <td>-0.61567</td>\n",
       "      <td>-0.06206</td>\n",
       "      <td>1.33451</td>\n",
       "      <td>0.75546</td>\n",
       "      <td>-1.56391</td>\n",
       "      <td>1.00917</td>\n",
       "      <td>1.66555</td>\n",
       "      <td>0</td>\n",
       "    </tr>\n",
       "    <tr>\n",
       "      <th>4</th>\n",
       "      <td>-1.22339</td>\n",
       "      <td>2.38761</td>\n",
       "      <td>-2.15763</td>\n",
       "      <td>-1.91316</td>\n",
       "      <td>1.31427</td>\n",
       "      <td>0.18067</td>\n",
       "      <td>-2.20922</td>\n",
       "      <td>1.43218</td>\n",
       "      <td>1.05498</td>\n",
       "      <td>0.18525</td>\n",
       "      <td>2.91384</td>\n",
       "      <td>-0.03258</td>\n",
       "      <td>1</td>\n",
       "    </tr>\n",
       "  </tbody>\n",
       "</table>\n",
       "</div>"
      ],
      "text/plain": [
       "       v_1      v_2      v_3      v_4      v_5      v_6      v_7      v_8  \\\n",
       "0 -0.79138 -1.45877 -0.61498  6.39546 -0.19283 -4.92609  3.72728  2.36581   \n",
       "1  0.79527 -0.14828  0.49140  0.10649  4.32203 -1.55355 -0.62966 -0.27509   \n",
       "2 -2.30926  1.59887  1.23513 -4.49395  0.50298  4.10219  0.48356 -0.51920   \n",
       "3  1.97998 -2.71683 -0.73252  3.08358  3.52049 -0.61567 -0.06206  1.33451   \n",
       "4 -1.22339  2.38761 -2.15763 -1.91316  1.31427  0.18067 -2.20922  1.43218   \n",
       "\n",
       "       v_9     v_10     v_11     v_12  target  \n",
       "0  0.60241  2.85597  2.52876  2.09155       0  \n",
       "1  4.06300 -1.11079  3.61077  1.11076       0  \n",
       "2 -1.59507  1.75719 -1.71703  0.92375       1  \n",
       "3  0.75546 -1.56391  1.00917  1.66555       0  \n",
       "4  1.05498  0.18525  2.91384 -0.03258       1  "
      ]
     },
     "execution_count": 4,
     "metadata": {},
     "output_type": "execute_result"
    }
   ],
   "source": [
    "dataset.head()"
   ]
  },
  {
   "cell_type": "code",
   "execution_count": 5,
   "metadata": {},
   "outputs": [
    {
     "data": {
      "text/html": [
       "<div>\n",
       "<style scoped>\n",
       "    .dataframe tbody tr th:only-of-type {\n",
       "        vertical-align: middle;\n",
       "    }\n",
       "\n",
       "    .dataframe tbody tr th {\n",
       "        vertical-align: top;\n",
       "    }\n",
       "\n",
       "    .dataframe thead th {\n",
       "        text-align: right;\n",
       "    }\n",
       "</style>\n",
       "<table border=\"1\" class=\"dataframe\">\n",
       "  <thead>\n",
       "    <tr style=\"text-align: right;\">\n",
       "      <th></th>\n",
       "      <th>0</th>\n",
       "      <th>1</th>\n",
       "      <th>2</th>\n",
       "      <th>3</th>\n",
       "      <th>4</th>\n",
       "      <th>5</th>\n",
       "      <th>6</th>\n",
       "      <th>7</th>\n",
       "      <th>8</th>\n",
       "      <th>9</th>\n",
       "      <th>10</th>\n",
       "      <th>11</th>\n",
       "    </tr>\n",
       "  </thead>\n",
       "  <tbody>\n",
       "    <tr>\n",
       "      <th>0</th>\n",
       "      <td>-0.79138</td>\n",
       "      <td>-1.45877</td>\n",
       "      <td>-0.61498</td>\n",
       "      <td>6.39546</td>\n",
       "      <td>-0.19283</td>\n",
       "      <td>-4.92609</td>\n",
       "      <td>3.72728</td>\n",
       "      <td>2.36581</td>\n",
       "      <td>0.60241</td>\n",
       "      <td>2.85597</td>\n",
       "      <td>2.52876</td>\n",
       "      <td>2.09155</td>\n",
       "    </tr>\n",
       "    <tr>\n",
       "      <th>1</th>\n",
       "      <td>0.79527</td>\n",
       "      <td>-0.14828</td>\n",
       "      <td>0.49140</td>\n",
       "      <td>0.10649</td>\n",
       "      <td>4.32203</td>\n",
       "      <td>-1.55355</td>\n",
       "      <td>-0.62966</td>\n",
       "      <td>-0.27509</td>\n",
       "      <td>4.06300</td>\n",
       "      <td>-1.11079</td>\n",
       "      <td>3.61077</td>\n",
       "      <td>1.11076</td>\n",
       "    </tr>\n",
       "    <tr>\n",
       "      <th>2</th>\n",
       "      <td>-2.30926</td>\n",
       "      <td>1.59887</td>\n",
       "      <td>1.23513</td>\n",
       "      <td>-4.49395</td>\n",
       "      <td>0.50298</td>\n",
       "      <td>4.10219</td>\n",
       "      <td>0.48356</td>\n",
       "      <td>-0.51920</td>\n",
       "      <td>-1.59507</td>\n",
       "      <td>1.75719</td>\n",
       "      <td>-1.71703</td>\n",
       "      <td>0.92375</td>\n",
       "    </tr>\n",
       "    <tr>\n",
       "      <th>3</th>\n",
       "      <td>1.97998</td>\n",
       "      <td>-2.71683</td>\n",
       "      <td>-0.73252</td>\n",
       "      <td>3.08358</td>\n",
       "      <td>3.52049</td>\n",
       "      <td>-0.61567</td>\n",
       "      <td>-0.06206</td>\n",
       "      <td>1.33451</td>\n",
       "      <td>0.75546</td>\n",
       "      <td>-1.56391</td>\n",
       "      <td>1.00917</td>\n",
       "      <td>1.66555</td>\n",
       "    </tr>\n",
       "    <tr>\n",
       "      <th>4</th>\n",
       "      <td>-1.22339</td>\n",
       "      <td>2.38761</td>\n",
       "      <td>-2.15763</td>\n",
       "      <td>-1.91316</td>\n",
       "      <td>1.31427</td>\n",
       "      <td>0.18067</td>\n",
       "      <td>-2.20922</td>\n",
       "      <td>1.43218</td>\n",
       "      <td>1.05498</td>\n",
       "      <td>0.18525</td>\n",
       "      <td>2.91384</td>\n",
       "      <td>-0.03258</td>\n",
       "    </tr>\n",
       "  </tbody>\n",
       "</table>\n",
       "</div>"
      ],
      "text/plain": [
       "        0        1        2        3        4        5        6        7   \\\n",
       "0 -0.79138 -1.45877 -0.61498  6.39546 -0.19283 -4.92609  3.72728  2.36581   \n",
       "1  0.79527 -0.14828  0.49140  0.10649  4.32203 -1.55355 -0.62966 -0.27509   \n",
       "2 -2.30926  1.59887  1.23513 -4.49395  0.50298  4.10219  0.48356 -0.51920   \n",
       "3  1.97998 -2.71683 -0.73252  3.08358  3.52049 -0.61567 -0.06206  1.33451   \n",
       "4 -1.22339  2.38761 -2.15763 -1.91316  1.31427  0.18067 -2.20922  1.43218   \n",
       "\n",
       "        8        9        10       11  \n",
       "0  0.60241  2.85597  2.52876  2.09155  \n",
       "1  4.06300 -1.11079  3.61077  1.11076  \n",
       "2 -1.59507  1.75719 -1.71703  0.92375  \n",
       "3  0.75546 -1.56391  1.00917  1.66555  \n",
       "4  1.05498  0.18525  2.91384 -0.03258  "
      ]
     },
     "execution_count": 5,
     "metadata": {},
     "output_type": "execute_result"
    }
   ],
   "source": [
    "X = dataset.iloc[:, 0:12].values\n",
    "pd.DataFrame(X).head()"
   ]
  },
  {
   "cell_type": "code",
   "execution_count": 6,
   "metadata": {},
   "outputs": [
    {
     "data": {
      "text/html": [
       "<div>\n",
       "<style scoped>\n",
       "    .dataframe tbody tr th:only-of-type {\n",
       "        vertical-align: middle;\n",
       "    }\n",
       "\n",
       "    .dataframe tbody tr th {\n",
       "        vertical-align: top;\n",
       "    }\n",
       "\n",
       "    .dataframe thead th {\n",
       "        text-align: right;\n",
       "    }\n",
       "</style>\n",
       "<table border=\"1\" class=\"dataframe\">\n",
       "  <thead>\n",
       "    <tr style=\"text-align: right;\">\n",
       "      <th></th>\n",
       "      <th>0</th>\n",
       "    </tr>\n",
       "  </thead>\n",
       "  <tbody>\n",
       "    <tr>\n",
       "      <th>0</th>\n",
       "      <td>0</td>\n",
       "    </tr>\n",
       "    <tr>\n",
       "      <th>1</th>\n",
       "      <td>0</td>\n",
       "    </tr>\n",
       "    <tr>\n",
       "      <th>2</th>\n",
       "      <td>1</td>\n",
       "    </tr>\n",
       "    <tr>\n",
       "      <th>3</th>\n",
       "      <td>0</td>\n",
       "    </tr>\n",
       "    <tr>\n",
       "      <th>4</th>\n",
       "      <td>1</td>\n",
       "    </tr>\n",
       "  </tbody>\n",
       "</table>\n",
       "</div>"
      ],
      "text/plain": [
       "   0\n",
       "0  0\n",
       "1  0\n",
       "2  1\n",
       "3  0\n",
       "4  1"
      ]
     },
     "execution_count": 6,
     "metadata": {},
     "output_type": "execute_result"
    }
   ],
   "source": [
    "y = dataset.iloc[:, 12].values\n",
    "pd.DataFrame(y).head()"
   ]
  },
  {
   "cell_type": "code",
   "execution_count": 9,
   "metadata": {},
   "outputs": [],
   "source": [
    "from sklearn.preprocessing import LabelEncoder, OneHotEncoder\n",
    "labelencoder_X = LabelEncoder()\n",
    "X[:, 0] = labelencoder_X.fit_transform(X[:, 0])\n",
    "onehotencoder = OneHotEncoder(categorical_features=[0])\n"
   ]
  },
  {
   "cell_type": "code",
   "execution_count": 10,
   "metadata": {},
   "outputs": [],
   "source": [
    "X[:, 1] = labelencoder_X.fit_transform(X[:, 1])\n",
    "onehotencoder = OneHotEncoder(categorical_features=[1])"
   ]
  },
  {
   "cell_type": "code",
   "execution_count": 11,
   "metadata": {},
   "outputs": [],
   "source": [
    "X[:, 2] = labelencoder_X.fit_transform(X[:, 2])\n",
    "onehotencoder = OneHotEncoder(categorical_features=[2])"
   ]
  },
  {
   "cell_type": "code",
   "execution_count": 12,
   "metadata": {},
   "outputs": [],
   "source": [
    "X[:, 3] = labelencoder_X.fit_transform(X[:, 3])\n",
    "onehotencoder = OneHotEncoder(categorical_features=[3])"
   ]
  },
  {
   "cell_type": "code",
   "execution_count": 13,
   "metadata": {},
   "outputs": [
    {
     "data": {
      "text/html": [
       "<div>\n",
       "<style scoped>\n",
       "    .dataframe tbody tr th:only-of-type {\n",
       "        vertical-align: middle;\n",
       "    }\n",
       "\n",
       "    .dataframe tbody tr th {\n",
       "        vertical-align: top;\n",
       "    }\n",
       "\n",
       "    .dataframe thead th {\n",
       "        text-align: right;\n",
       "    }\n",
       "</style>\n",
       "<table border=\"1\" class=\"dataframe\">\n",
       "  <thead>\n",
       "    <tr style=\"text-align: right;\">\n",
       "      <th></th>\n",
       "      <th>0</th>\n",
       "      <th>1</th>\n",
       "      <th>2</th>\n",
       "      <th>3</th>\n",
       "    </tr>\n",
       "  </thead>\n",
       "  <tbody>\n",
       "    <tr>\n",
       "      <th>0</th>\n",
       "      <td>0</td>\n",
       "      <td>0</td>\n",
       "      <td>0</td>\n",
       "      <td>1</td>\n",
       "    </tr>\n",
       "    <tr>\n",
       "      <th>1</th>\n",
       "      <td>1</td>\n",
       "      <td>0</td>\n",
       "      <td>1</td>\n",
       "      <td>3</td>\n",
       "    </tr>\n",
       "    <tr>\n",
       "      <th>2</th>\n",
       "      <td>0</td>\n",
       "      <td>2</td>\n",
       "      <td>0</td>\n",
       "      <td>0</td>\n",
       "    </tr>\n",
       "    <tr>\n",
       "      <th>3</th>\n",
       "      <td>1</td>\n",
       "      <td>3</td>\n",
       "      <td>0</td>\n",
       "      <td>0</td>\n",
       "    </tr>\n",
       "    <tr>\n",
       "      <th>4</th>\n",
       "      <td>0</td>\n",
       "      <td>2</td>\n",
       "      <td>0</td>\n",
       "      <td>1</td>\n",
       "    </tr>\n",
       "  </tbody>\n",
       "</table>\n",
       "</div>"
      ],
      "text/plain": [
       "   0  1  2  3\n",
       "0  0  0  0  1\n",
       "1  1  0  1  3\n",
       "2  0  2  0  0\n",
       "3  1  3  0  0\n",
       "4  0  2  0  1"
      ]
     },
     "execution_count": 13,
     "metadata": {},
     "output_type": "execute_result"
    }
   ],
   "source": [
    "pd.DataFrame(X).head()"
   ]
  },
  {
   "cell_type": "code",
   "execution_count": 7,
   "metadata": {},
   "outputs": [
    {
     "name": "stdout",
     "output_type": "stream",
     "text": [
      "Dimensão dos nossos dados:\n",
      " (2500, 13)\n"
     ]
    }
   ],
   "source": [
    "print(\"Dimensão dos nossos dados:\\n\", \n",
    "     dataset.shape)\n",
    "#print(\"Tipo de variáveis:\\n\",\n",
    "#     dataset.dtypes)"
   ]
  },
  {
   "cell_type": "markdown",
   "metadata": {},
   "source": [
    "#### Pocentagem da variável resposta"
   ]
  },
  {
   "cell_type": "code",
   "execution_count": 9,
   "metadata": {},
   "outputs": [
    {
     "data": {
      "text/html": [
       "<div>\n",
       "<style scoped>\n",
       "    .dataframe tbody tr th:only-of-type {\n",
       "        vertical-align: middle;\n",
       "    }\n",
       "\n",
       "    .dataframe tbody tr th {\n",
       "        vertical-align: top;\n",
       "    }\n",
       "\n",
       "    .dataframe thead th {\n",
       "        text-align: right;\n",
       "    }\n",
       "</style>\n",
       "<table border=\"1\" class=\"dataframe\">\n",
       "  <thead>\n",
       "    <tr style=\"text-align: right;\">\n",
       "      <th></th>\n",
       "      <th># target</th>\n",
       "      <th>% target</th>\n",
       "    </tr>\n",
       "  </thead>\n",
       "  <tbody>\n",
       "    <tr>\n",
       "      <th>0</th>\n",
       "      <td>1724</td>\n",
       "      <td>68.96</td>\n",
       "    </tr>\n",
       "    <tr>\n",
       "      <th>1</th>\n",
       "      <td>776</td>\n",
       "      <td>31.04</td>\n",
       "    </tr>\n",
       "  </tbody>\n",
       "</table>\n",
       "</div>"
      ],
      "text/plain": [
       "   # target  % target\n",
       "0      1724     68.96\n",
       "1       776     31.04"
      ]
     },
     "execution_count": 9,
     "metadata": {},
     "output_type": "execute_result"
    }
   ],
   "source": [
    "resposta = dataset['target']\n",
    "count = pd.DataFrame(resposta.value_counts())\n",
    "percent = pd.DataFrame(resposta.value_counts(normalize = True)*100)\n",
    "table = pd.concat([count, percent], axis = 1)\n",
    "table.columns = ['# target', '% target']\n",
    "table"
   ]
  },
  {
   "cell_type": "code",
   "execution_count": 16,
   "metadata": {},
   "outputs": [],
   "source": [
    "#Descritiva de algumas variáveis\n",
    "#dataset.describe()"
   ]
  },
  {
   "cell_type": "markdown",
   "metadata": {},
   "source": [
    "#### Treino e Teste"
   ]
  },
  {
   "cell_type": "markdown",
   "metadata": {},
   "source": [
    "## Ajustando Naive Bayes"
   ]
  },
  {
   "cell_type": "markdown",
   "metadata": {},
   "source": [
    "### Separando as k primeiras observações para treino e o restante para teste"
   ]
  },
  {
   "cell_type": "code",
   "execution_count": 17,
   "metadata": {},
   "outputs": [],
   "source": [
    "X_treino = X[0:499, :]\n",
    "y_treino = y[0:499, ]\n",
    "\n",
    "\n",
    "X_teste = X[500:1000, :]\n",
    "y_teste = y[500:1000, ]\n"
   ]
  },
  {
   "cell_type": "code",
   "execution_count": 18,
   "metadata": {},
   "outputs": [
    {
     "data": {
      "text/plain": [
       "MultinomialNB(alpha=1.0, class_prior=None, fit_prior=True)"
      ]
     },
     "execution_count": 18,
     "metadata": {},
     "output_type": "execute_result"
    }
   ],
   "source": [
    "clf = MultinomialNB()\n",
    "clf.fit(X_treino, y_treino)"
   ]
  },
  {
   "cell_type": "markdown",
   "metadata": {},
   "source": [
    "#### Precisão do classificador no Decision Tree"
   ]
  },
  {
   "cell_type": "code",
   "execution_count": 19,
   "metadata": {},
   "outputs": [],
   "source": [
    "pred_teste = clf.predict(X_teste)\n",
    "pred_treino = clf.predict(X_treino)"
   ]
  },
  {
   "cell_type": "markdown",
   "metadata": {},
   "source": [
    "#### Métricas Treino"
   ]
  },
  {
   "cell_type": "code",
   "execution_count": 20,
   "metadata": {},
   "outputs": [
    {
     "name": "stdout",
     "output_type": "stream",
     "text": [
      "Resultados para o classificador Naive Bayes:\n",
      "Acurácia para o treino é  0.7835671342685371\n",
      "             precision    recall  f1-score   support\n",
      "\n",
      "          0       0.00      0.00      0.00       108\n",
      "          1       0.78      1.00      0.88       391\n",
      "\n",
      "avg / total       0.61      0.78      0.69       499\n",
      " None\n"
     ]
    },
    {
     "name": "stderr",
     "output_type": "stream",
     "text": [
      "C:\\ProgramData\\Anaconda3\\lib\\site-packages\\sklearn\\metrics\\classification.py:1135: UndefinedMetricWarning: Precision and F-score are ill-defined and being set to 0.0 in labels with no predicted samples.\n",
      "  'precision', 'predicted', average, warn_for)\n"
     ]
    }
   ],
   "source": [
    " report_treino(pred_treino, 'Naive Bayes')"
   ]
  },
  {
   "cell_type": "markdown",
   "metadata": {},
   "source": [
    "#### Métricas Teste"
   ]
  },
  {
   "cell_type": "code",
   "execution_count": 21,
   "metadata": {},
   "outputs": [
    {
     "name": "stdout",
     "output_type": "stream",
     "text": [
      "Resultados para o classificador Naive Bayes:\n",
      "Acurácia para o treino é  0.76\n",
      "             precision    recall  f1-score   support\n",
      "\n",
      "          0       0.00      0.00      0.00       120\n",
      "          1       0.76      1.00      0.86       380\n",
      "\n",
      "avg / total       0.58      0.76      0.66       500\n",
      " None\n"
     ]
    },
    {
     "name": "stderr",
     "output_type": "stream",
     "text": [
      "C:\\ProgramData\\Anaconda3\\lib\\site-packages\\sklearn\\metrics\\classification.py:1135: UndefinedMetricWarning: Precision and F-score are ill-defined and being set to 0.0 in labels with no predicted samples.\n",
      "  'precision', 'predicted', average, warn_for)\n"
     ]
    }
   ],
   "source": [
    "report_teste(pred_teste, 'Naive Bayes')"
   ]
  },
  {
   "cell_type": "markdown",
   "metadata": {},
   "source": [
    "#### Utilizando Grid Search"
   ]
  },
  {
   "cell_type": "code",
   "execution_count": 10,
   "metadata": {},
   "outputs": [],
   "source": [
    "from sklearn.model_selection import StratifiedKFold, KFold, LeaveOneOut\n",
    "cv_kfold = KFold(n_splits=5, shuffle=False, random_state=42)"
   ]
  },
  {
   "cell_type": "code",
   "execution_count": 12,
   "metadata": {},
   "outputs": [],
   "source": [
    "from sklearn.naive_bayes import GaussianNB\n",
    "clf = GaussianNB()\n",
    "\n",
    "parameters = {\n",
    "    \n",
    "}\n",
    "\n",
    "model = GridSearchCV(estimator = clf,\n",
    "                         param_grid = parameters,\n",
    "                         scoring = 'accuracy',\n",
    "                         cv=cv_kfold)"
   ]
  },
  {
   "cell_type": "code",
   "execution_count": 13,
   "metadata": {},
   "outputs": [],
   "source": [
    "nb_ajust = model.fit(X, y)"
   ]
  },
  {
   "cell_type": "code",
   "execution_count": 15,
   "metadata": {},
   "outputs": [
    {
     "name": "stdout",
     "output_type": "stream",
     "text": [
      "             precision    recall  f1-score   support\n",
      "\n",
      "          0       0.83      0.90      0.86      1724\n",
      "          1       0.72      0.58      0.64       776\n",
      "\n",
      "avg / total       0.79      0.80      0.79      2500\n",
      "\n",
      "             Acurácia: 0.7984\n"
     ]
    }
   ],
   "source": [
    "predict_nb = nb_ajust.predict(X)\n",
    "print(metrics.classification_report(y, predict_nb))\n",
    "print('             Acurácia:',accuracy_score(y, predict_nb))"
   ]
  },
  {
   "cell_type": "code",
   "execution_count": 16,
   "metadata": {},
   "outputs": [
    {
     "name": "stdout",
     "output_type": "stream",
     "text": [
      "             precision    recall  f1-score   support\n",
      "\n",
      "          0       0.83      0.90      0.86      1724\n",
      "          1       0.72      0.58      0.64       776\n",
      "\n",
      "avg / total       0.79      0.80      0.79      2500\n",
      "\n",
      "             Acurácia: 0.7984\n"
     ]
    }
   ],
   "source": [
    "predict_nb = nb_ajust.predict(X)\n",
    "print(metrics.classification_report(y, predict_nb))\n",
    "print('             Acurácia:',accuracy_score(y, predict_nb))"
   ]
  },
  {
   "cell_type": "code",
   "execution_count": null,
   "metadata": {},
   "outputs": [],
   "source": []
  },
  {
   "cell_type": "code",
   "execution_count": null,
   "metadata": {},
   "outputs": [],
   "source": []
  }
 ],
 "metadata": {
  "kernelspec": {
   "display_name": "Python 3",
   "language": "python",
   "name": "python3"
  },
  "language_info": {
   "codemirror_mode": {
    "name": "ipython",
    "version": 3
   },
   "file_extension": ".py",
   "mimetype": "text/x-python",
   "name": "python",
   "nbconvert_exporter": "python",
   "pygments_lexer": "ipython3",
   "version": "3.6.5"
  }
 },
 "nbformat": 4,
 "nbformat_minor": 2
}
